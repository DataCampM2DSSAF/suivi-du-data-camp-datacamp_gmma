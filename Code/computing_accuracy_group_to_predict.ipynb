{
 "cells": [
  {
   "cell_type": "code",
   "execution_count": 1,
   "metadata": {},
   "outputs": [],
   "source": [
    "import pandas as pd\n",
    "import numpy as np\n",
    "import matplotlib.pylab as plt\n",
    "import math"
   ]
  },
  {
   "cell_type": "code",
   "execution_count": 2,
   "metadata": {},
   "outputs": [],
   "source": [
    "#sample_submission = pd.read_csv(\"../data/sample_submission.csv\")\n",
    "#test = pd.read_csv(\"../data/test.csv\")\n",
    "#specs = pd.read_csv(\"../data/specs.csv\")\n",
    "train_labels = pd.read_csv(\"../data/train_labels.csv\")\n",
    "#train = pd.read_csv(\"../data/train.csv\")\n",
    "truncated_data = pd.read_csv(\"../data/truncated_data.csv\")"
   ]
  },
  {
   "cell_type": "code",
   "execution_count": 54,
   "metadata": {},
   "outputs": [],
   "source": [
    "def match_files(train_lab,truncated_dat):\n",
    "    \n",
    "    print('Selecting unique installation_id in the data')\n",
    "    unique_id = np.unique(truncated_dat['installation_id'])\n",
    "    print('Done !')\n",
    "    \n",
    "    new_data = pd.DataFrame(columns = [\"installation_id\",\"game_session\",\"accuracy_group\"])\n",
    "    \n",
    "    print('Matching files')\n",
    "    for id in unique_id:\n",
    "        #last line, so the assessment we want to predict\n",
    "        last_truncated_id = truncated_data[truncated_data['installation_id'] == id].tail(1)\n",
    "        \n",
    "        #the real accuracy group by installation_id and game_session\n",
    "        joined_row = pd.merge(train_lab, last_truncated_id, on=['installation_id','game_session'], how='inner')[[\"installation_id\",\"game_session\",\"accuracy_group\"]]\n",
    "        \n",
    "        #Update new_data\n",
    "        new_data = pd.concat([new_data, joined_row])\n",
    "    return(new_data)"
   ]
  },
  {
   "cell_type": "code",
   "execution_count": 55,
   "metadata": {},
   "outputs": [
    {
     "name": "stdout",
     "output_type": "stream",
     "text": [
      "Selecting unique installation_id in the data\n",
      "Done !\n",
      "Matching files\n"
     ]
    }
   ],
   "source": [
    "matching_file = match_files(train_labels, truncated_data)"
   ]
  },
  {
   "cell_type": "code",
   "execution_count": 57,
   "metadata": {},
   "outputs": [],
   "source": [
    "matching_file.to_csv(r\"../data/accuracy_group_to_predict.csv\", index = False)"
   ]
  }
 ],
 "metadata": {
  "kernelspec": {
   "display_name": "Python 3",
   "language": "python",
   "name": "python3"
  },
  "language_info": {
   "codemirror_mode": {
    "name": "ipython",
    "version": 3
   },
   "file_extension": ".py",
   "mimetype": "text/x-python",
   "name": "python",
   "nbconvert_exporter": "python",
   "pygments_lexer": "ipython3",
   "version": "3.7.3"
  }
 },
 "nbformat": 4,
 "nbformat_minor": 2
}
