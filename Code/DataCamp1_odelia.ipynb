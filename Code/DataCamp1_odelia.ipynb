{
 "cells": [
  {
   "cell_type": "markdown",
   "metadata": {},
   "source": [
    "# Settings"
   ]
  },
  {
   "cell_type": "code",
   "execution_count": null,
   "metadata": {},
   "outputs": [],
   "source": [
    "import pandas as pd\n",
    "import numpy as np\n",
    "import matplotlib.pylab as plt"
   ]
  },
  {
   "cell_type": "markdown",
   "metadata": {},
   "source": [
    "# Loading the data"
   ]
  },
  {
   "cell_type": "code",
   "execution_count": 2,
   "metadata": {},
   "outputs": [],
   "source": [
    "sample_submission = pd.read_csv(\"C:/Users/odeli/Desktop/dataCamp_data/sample_submission.csv\")\n",
    "test = pd.read_csv(\"C:/Users/odeli/Desktop/dataCamp_data/test.csv\")\n",
    "specs = pd.read_csv(\"C:/Users/odeli/Desktop/dataCamp_data/specs.csv\")\n",
    "train_labels = pd.read_csv(\"C:/Users/odeli/Desktop/dataCamp_data/train_labels.csv\")\n",
    "train = pd.read_csv(\"C:/Users/odeli/Desktop/dataCamp_data/train.csv\")"
   ]
  },
  {
   "cell_type": "code",
   "execution_count": 3,
   "metadata": {},
   "outputs": [
    {
     "name": "stdout",
     "output_type": "stream",
     "text": [
      "Shapes:\n",
      " - train:  (11341042, 11) \n",
      " - train_labels:  (17690, 7) \n",
      " - test:  (1156414, 11) \n",
      " - specs:  (386, 3) \n",
      " - sample_submission:  (1000, 2)\n"
     ]
    }
   ],
   "source": [
    "print('Shapes:\\n - train: ', np.shape(train), '\\n - train_labels: ',np.shape(train_labels), '\\n - test: ',np.shape(test), '\\n - specs: ',np.shape(specs), '\\n - sample_submission: ',np.shape(sample_submission))"
   ]
  },
  {
   "cell_type": "markdown",
   "metadata": {},
   "source": [
    "## Making labels"
   ]
  },
  {
   "cell_type": "markdown",
   "metadata": {},
   "source": [
    "The first very important thing to do is to create the labels.\n",
    "As we said the right information is contained in the event_data column.\n",
    "This column is a dictionary with a variable size for each line."
   ]
  },
  {
   "cell_type": "markdown",
   "metadata": {},
   "source": [
    "Organisation of the information recorded by the application:\n",
    "    * When a child downloads the app an id is created: id_installation\n",
    "    * When he starts playing a game an other id is created: game_session\n",
    "    * Inside a game_session many things can be done by the gamer. Every event has its own id: event_id. The different possible events are caracterized by a code contained in the event_code column.\n",
    "The only interesting events to build the labels are the lasts one in a game session: they correspond to the succes or the failure of the game in a given game_session. The corrresponding event_code is 4100 for 4 of the 5 games and 4110 for the last one."
   ]
  },
  {
   "cell_type": "code",
   "execution_count": 223,
   "metadata": {},
   "outputs": [],
   "source": [
    "def get_accuracy(data, game, code):\n",
    "    \"\"\"\n",
    "    input: train\n",
    "    output: train_labels for each of the 5 games\n",
    "    \"\"\"\n",
    "    \n",
    "    # Filtre par 1 des 5 jeux (game)\n",
    "    tmp = data[data['title'].str.contains(game)]\n",
    "    \n",
    "    # Filtre dernier event = assessment 4110/4100 (code)\n",
    "    tmp = tmp[tmp['event_code'] == code]\n",
    "    \n",
    "    # num_correct and num_incorrect\n",
    "    correct = [\"NA\" for i in range(np.shape(tmp)[0])]\n",
    "    incorrect = [\"NA\" for i in range(np.shape(tmp)[0])]\n",
    "    for i in range(np.shape(tmp)[0]):\n",
    "        if ('correct\":false' in tmp.loc[tmp.index[i], 'event_data']):\n",
    "            correct[i] = 0\n",
    "            incorrect[i] = 1\n",
    "        elif ('correct\":true' in tmp.loc[tmp.index[i], 'event_data']):\n",
    "            correct[i] = 1\n",
    "            incorrect[i] = 0\n",
    "        else:\n",
    "            correct[i] = 'NA'\n",
    "            incorrect[i] = 'NA'\n",
    "    tmp['num_correct'] = correct\n",
    "    tmp['num_incorrect'] = incorrect\n",
    "    tmp = pd.DataFrame(tmp.groupby(('installation_id','game_session','title')).sum())\n",
    "            \n",
    "    # accuracy\n",
    "    accuracy = tmp['num_correct'] / (tmp['num_correct'] + tmp['num_incorrect'])\n",
    "    tmp['accuracy'] = accuracy\n",
    "    \n",
    "    # accuracy_group\n",
    "    tmp[\"accuracy_group\"] = tmp[\"accuracy\"].apply(lambda x: 0 if x==0 else (1 if x<0.5 else (2 if x<0.9 else 3)))\n",
    "    return(tmp)\n",
    "    "
   ]
  },
  {
   "cell_type": "code",
   "execution_count": 249,
   "metadata": {},
   "outputs": [
    {
     "name": "stderr",
     "output_type": "stream",
     "text": [
      "C:\\Users\\odeli\\Anaconda3\\lib\\site-packages\\ipykernel_launcher.py:24: FutureWarning: Interpreting tuple 'by' as a list of keys, rather than a single key. Use 'by=[...]' instead of 'by=(...)'. In the future, a tuple will always mean a single key.\n"
     ]
    }
   ],
   "source": [
    "BM_labels = get_accuracy(train, 'Bird Measurer', 4110)\n",
    "CB_labels = get_accuracy(train, 'Cart Balancer', 4100)\n",
    "CF_labels = get_accuracy(train, 'Cauldron Filler', 4100)\n",
    "CS_labels = get_accuracy(train, 'Chest Sorter', 4100)\n",
    "MS_labels = get_accuracy(train, 'Mushroom Sorter', 4100)"
   ]
  },
  {
   "cell_type": "code",
   "execution_count": 250,
   "metadata": {},
   "outputs": [],
   "source": [
    "my_train_labels = pd.concat([BM_labels,CB_labels,CF_labels,CS_labels,MS_labels])"
   ]
  },
  {
   "cell_type": "code",
   "execution_count": 252,
   "metadata": {},
   "outputs": [
    {
     "data": {
      "text/plain": [
       "((17690, 7), (17690, 7))"
      ]
     },
     "execution_count": 252,
     "metadata": {},
     "output_type": "execute_result"
    }
   ],
   "source": [
    "np.shape(my_train_labels), np.shape(train_labels)"
   ]
  }
 ],
 "metadata": {
  "kernelspec": {
   "display_name": "Python 3",
   "language": "python",
   "name": "python3"
  },
  "language_info": {
   "codemirror_mode": {
    "name": "ipython",
    "version": 3
   },
   "file_extension": ".py",
   "mimetype": "text/x-python",
   "name": "python",
   "nbconvert_exporter": "python",
   "pygments_lexer": "ipython3",
   "version": "3.7.3"
  }
 },
 "nbformat": 4,
 "nbformat_minor": 2
}
