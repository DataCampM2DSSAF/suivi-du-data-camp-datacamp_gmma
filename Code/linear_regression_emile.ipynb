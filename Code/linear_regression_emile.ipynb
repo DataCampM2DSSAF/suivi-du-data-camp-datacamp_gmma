{
 "cells": [
  {
   "cell_type": "code",
   "execution_count": 1,
   "metadata": {},
   "outputs": [],
   "source": [
    "import math\n",
    "import pandas as pd\n",
    "import numpy as np\n",
    "from sklearn.linear_model import LinearRegression\n",
    "import operator"
   ]
  },
  {
   "cell_type": "code",
   "execution_count": 40,
   "metadata": {},
   "outputs": [],
   "source": [
    "#on importe les données\n",
    "reduced_test = pd.read_csv(\"../../../data/reduced_test.csv\")\n",
    "reduced_truncated_data = pd.read_csv(\"../../../data/reduced_truncated_data.csv\")\n",
    "accuracy_group_to_predict = pd.read_csv(\"../../../data/accuracy_group_to_predict.csv\")"
   ]
  },
  {
   "cell_type": "code",
   "execution_count": 41,
   "metadata": {},
   "outputs": [],
   "source": [
    "#on ne garde que les colonnes communes, afin que le modèle puisse s'appliquer sur l'un puis sur l'autre\n",
    "reduced_truncated_data = reduced_truncated_data[reduced_truncated_data.columns.intersection(reduced_test.columns)]\n",
    "reduced_test = reduced_test[reduced_truncated_data.columns.intersection(reduced_test.columns)]"
   ]
  },
  {
   "cell_type": "code",
   "execution_count": 42,
   "metadata": {},
   "outputs": [],
   "source": [
    "#On obtient Y contenant l'accuracy_group pour chaque ligne de reduced_truncated_data\n",
    "Y = pd.merge(reduced_truncated_data, accuracy_group_to_predict, on='installation_id', how='outer')\n",
    "Y = Y[\"accuracy_group_y\"]"
   ]
  },
  {
   "cell_type": "code",
   "execution_count": 43,
   "metadata": {},
   "outputs": [
    {
     "name": "stdout",
     "output_type": "stream",
     "text": [
      "(17690,)\n",
      "(17690, 884)\n",
      "(1000, 884)\n",
      "(3302, 3)\n"
     ]
    },
    {
     "data": {
      "text/plain": [
       "0    3.0\n",
       "1    3.0\n",
       "2    3.0\n",
       "3    3.0\n",
       "4    3.0\n",
       "Name: accuracy_group_y, dtype: float64"
      ]
     },
     "execution_count": 43,
     "metadata": {},
     "output_type": "execute_result"
    }
   ],
   "source": [
    "print(np.shape(Y))\n",
    "print(np.shape(reduced_truncated_data))\n",
    "print(np.shape(reduced_test))\n",
    "print(np.shape(accuracy_group_to_predict))\n",
    "Y.head()"
   ]
  },
  {
   "cell_type": "code",
   "execution_count": 44,
   "metadata": {},
   "outputs": [
    {
     "name": "stdout",
     "output_type": "stream",
     "text": [
      "False\n",
      "True\n",
      "(16041, 884)\n"
     ]
    }
   ],
   "source": [
    "#on regarde et enlève dans Y et reduced_truncates_data les lignes ou au moins l'un des deux a un NA\n",
    "print(pd.isnull(reduced_truncated_data).any(axis=1).any(axis=0)) #aucun NA\n",
    "print(pd.isnull(Y).any(axis=0)) #au moins un NA\n",
    "\n",
    "rows_to_keep = list(map(operator.not_,pd.isnull(Y)))\n",
    "Y = Y[rows_to_keep]\n",
    "reduced_truncated_data = reduced_truncated_data[rows_to_keep]\n",
    "\n",
    "print(np.shape(reduced_truncated_data))"
   ]
  },
  {
   "cell_type": "code",
   "execution_count": 45,
   "metadata": {},
   "outputs": [
    {
     "name": "stdout",
     "output_type": "stream",
     "text": [
      "Index(['installation_id'], dtype='object')\n"
     ]
    }
   ],
   "source": [
    "#il faut enlever les colonnes non numériques \n",
    "msk = reduced_truncated_data.dtypes == np.object\n",
    "print(reduced_truncated_data.loc[:,msk].columns)\n",
    "\n",
    "del reduced_truncated_data['installation_id']"
   ]
  },
  {
   "cell_type": "code",
   "execution_count": 46,
   "metadata": {},
   "outputs": [],
   "source": [
    "model = LinearRegression().fit(reduced_truncated_data, Y)"
   ]
  },
  {
   "cell_type": "code",
   "execution_count": 47,
   "metadata": {},
   "outputs": [],
   "source": [
    "r_sq = model.score(reduced_truncated_data, Y)"
   ]
  },
  {
   "cell_type": "code",
   "execution_count": 64,
   "metadata": {},
   "outputs": [
    {
     "name": "stdout",
     "output_type": "stream",
     "text": [
      "[3. 2. 3. ... 1. 1. 1.]\n",
      "[4. 4. 4. 4. 4. 4. 4. 4. 4. 4. 4. 4. 4. 4. 4. 4. 4. 4. 4. 4. 4. 4. 4. 4.\n",
      " 4. 4. 4. 4. 4. 4. 4. 4. 4. 4. 4. 4. 4. 4. 4. 4. 4. 4. 4. 4. 4. 4. 4. 4.\n",
      " 4. 4. 4. 4. 4. 4. 4. 4. 4. 4. 4. 4. 4. 4. 4. 4. 4. 4. 4. 4. 4. 4. 4. 4.\n",
      " 4. 4. 4. 4. 4. 4. 4. 4. 4. 4. 4. 4. 4. 4. 4. 4. 4. 4. 4. 4. 4. 4. 4. 4.\n",
      " 4. 4. 4. 4. 4. 4. 4. 4. 4. 4. 4. 4. 4. 4. 4. 4. 4. 4. 4. 4. 4. 4. 4. 4.\n",
      " 4. 4. 4. 4. 4. 4. 4. 4. 4. 4. 4. 4. 4. 4. 4. 4. 4. 4. 4. 4. 4. 4. 4. 4.\n",
      " 4. 4. 4. 4. 4. 4. 4. 4. 4. 4. 4. 4.]\n",
      "[-1. -1. -1. -1. -1. -2. -1. -1. -2. -1. -1. -1. -1. -1. -2. -1. -1. -1.\n",
      " -1. -1. -1. -1. -1. -1. -1. -1. -1. -1. -1. -1. -1. -1. -1. -1. -1. -1.\n",
      " -1. -1. -1. -1. -1. -1. -1. -1. -1. -1. -1. -1. -1. -1. -1. -1. -1. -1.\n",
      " -1. -1. -1. -1. -1. -1. -1. -1. -1. -1. -1. -1. -1. -1. -1. -1. -1. -1.\n",
      " -1. -1.]\n",
      "[]\n"
     ]
    }
   ],
   "source": [
    "y_pred = model.predict(reduced_truncated_data)\n",
    "y_pred = np.around(y_pred)\n",
    "print(y_pred)\n",
    "\n",
    "#les valeurs sont-elles toutes 0,1,2 ou3 ? Si oui, on les transforme en 0 ou 3\n",
    "msk = y_pred>3\n",
    "print(y_pred[msk])\n",
    "y_pred[msk] = 3\n",
    "\n",
    "msk = y_pred<0\n",
    "print(y_pred[msk])\n",
    "y_pred[msk] = 0"
   ]
  },
  {
   "cell_type": "code",
   "execution_count": 67,
   "metadata": {},
   "outputs": [
    {
     "data": {
      "text/plain": [
       "False    9966\n",
       "True     6075\n",
       "Name: accuracy_group_y, dtype: int64"
      ]
     },
     "execution_count": 67,
     "metadata": {},
     "output_type": "execute_result"
    }
   ],
   "source": [
    "#Par rapport aux vraies valeurs, quelle est notre proportion de bonnes valeurs\n",
    "(Y == y_pred).value_counts()"
   ]
  }
 ],
 "metadata": {
  "kernelspec": {
   "display_name": "Python 3",
   "language": "python",
   "name": "python3"
  },
  "language_info": {
   "codemirror_mode": {
    "name": "ipython",
    "version": 3
   },
   "file_extension": ".py",
   "mimetype": "text/x-python",
   "name": "python",
   "nbconvert_exporter": "python",
   "pygments_lexer": "ipython3",
   "version": "3.7.3"
  }
 },
 "nbformat": 4,
 "nbformat_minor": 2
}
